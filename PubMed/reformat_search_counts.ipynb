{
 "cells": [
  {
   "cell_type": "code",
   "execution_count": 1,
   "metadata": {},
   "outputs": [],
   "source": [
    "import pandas as pd"
   ]
  },
  {
   "cell_type": "code",
   "execution_count": 2,
   "metadata": {},
   "outputs": [],
   "source": [
    "# import data\n",
    "articles = pd.read_csv('Work\\\\McDevitt\\\\PubMed\\\\articles.csv')\n",
    "downloads = pd.read_csv('Work\\\\McDevitt\\\\PubMed\\\\downloads_summary.csv')\n",
    "humans = downloads[(downloads['STUDY_TYPE']=='human') & (downloads['rejected']==False)]"
   ]
  },
  {
   "cell_type": "code",
   "execution_count": 3,
   "metadata": {},
   "outputs": [
    {
     "data": {
      "text/plain": [
       "0       1\n",
       "1       2\n",
       "2       1\n",
       "3       3\n",
       "4       1\n",
       "       ..\n",
       "6042    4\n",
       "6043    1\n",
       "6044    1\n",
       "6045    1\n",
       "6046    1\n",
       "Name: count, Length: 6047, dtype: int32"
      ]
     },
     "execution_count": 3,
     "metadata": {},
     "output_type": "execute_result"
    }
   ],
   "source": [
    "# original search counts\n",
    "ori = articles[['K1','K2']].groupby(['K1','K2']).size().reset_index().rename(columns={0:'count'})\n",
    "ori['count'].astype(int, copy=False)"
   ]
  },
  {
   "cell_type": "code",
   "execution_count": 4,
   "metadata": {},
   "outputs": [
    {
     "data": {
      "text/plain": [
       "0       1\n",
       "1       3\n",
       "2       1\n",
       "3       1\n",
       "4       1\n",
       "       ..\n",
       "4927    1\n",
       "4928    1\n",
       "4929    1\n",
       "4930    3\n",
       "4931    1\n",
       "Name: count, Length: 4932, dtype: int32"
      ]
     },
     "execution_count": 4,
     "metadata": {},
     "output_type": "execute_result"
    }
   ],
   "source": [
    "# downloads search counts\n",
    "dow = articles[articles['PMID'].isin(downloads.PMID)][['PMID', 'TITLE', 'K1', 'K2']]\n",
    "dow = dow.groupby(['K1','K2']).size().reset_index().rename(columns={0:'count'})\n",
    "dow['count'].astype(int, copy=False)"
   ]
  },
  {
   "cell_type": "code",
   "execution_count": 5,
   "metadata": {},
   "outputs": [
    {
     "data": {
      "text/plain": [
       "0       1\n",
       "1       2\n",
       "2       1\n",
       "3       1\n",
       "4       3\n",
       "       ..\n",
       "2275    1\n",
       "2276    1\n",
       "2277    1\n",
       "2278    3\n",
       "2279    1\n",
       "Name: count, Length: 2280, dtype: int32"
      ]
     },
     "execution_count": 5,
     "metadata": {},
     "output_type": "execute_result"
    }
   ],
   "source": [
    "# human studies count\n",
    "agg = articles[articles['PMID'].isin(humans.PMID)][['PMID', 'TITLE', 'K1', 'K2']]\n",
    "agg = agg.groupby(['K1','K2']).size().reset_index().rename(columns={0:'count'})\n",
    "agg['count'].astype(int, copy=False)"
   ]
  },
  {
   "cell_type": "code",
   "execution_count": 6,
   "metadata": {},
   "outputs": [
    {
     "data": {
      "text/plain": [
       "55436"
      ]
     },
     "execution_count": 6,
     "metadata": {},
     "output_type": "execute_result"
    }
   ],
   "source": [
    "# search counts before downloads\n",
    "ori['count'].sum()"
   ]
  },
  {
   "cell_type": "code",
   "execution_count": 7,
   "metadata": {},
   "outputs": [
    {
     "data": {
      "text/plain": [
       "30543"
      ]
     },
     "execution_count": 7,
     "metadata": {},
     "output_type": "execute_result"
    }
   ],
   "source": [
    "# search counts after downloads\n",
    "dow['count'].sum()"
   ]
  },
  {
   "cell_type": "code",
   "execution_count": 8,
   "metadata": {},
   "outputs": [
    {
     "data": {
      "text/plain": [
       "6833"
      ]
     },
     "execution_count": 8,
     "metadata": {},
     "output_type": "execute_result"
    }
   ],
   "source": [
    "# get the number of total search counts for human studies\n",
    "agg['count'].sum()"
   ]
  },
  {
   "cell_type": "code",
   "execution_count": 9,
   "metadata": {},
   "outputs": [],
   "source": [
    "# fill in missing columns and rows and export\n",
    "keys = pd.read_excel('Work\\\\McDevitt\\\\PubMed\\\\keywords.xlsx')[['FIRST KEYWORD', 'SECOND KEYWORD']].rename(columns={'FIRST KEYWORD': 'K1', 'SECOND KEYWORD': 'K2'})\n",
    "\n",
    "ori.pivot_table(values='count', index=ori.K1, columns='K2', fill_value=0, dropna=False).reindex(\n",
    "    index=keys.K1[~keys.K1.isna()].str.lower(), \n",
    "    columns=keys.K2[~keys.K2.isna()].str.lower(),\n",
    "    fill_value=0\n",
    ").fillna(0).to_csv('clustered_search_counts.csv')\n",
    "dow.pivot_table(values='count', index=dow.K1, columns='K2', fill_value=0, dropna=False).reindex(\n",
    "    index=keys.K1[~keys.K1.isna()].str.lower(), \n",
    "    columns=keys.K2[~keys.K2.isna()].str.lower(),\n",
    "    fill_value=0\n",
    ").fillna(0).to_csv('clustered_downloads_search_counts.csv')\n",
    "agg.pivot_table(values='count', index=agg.K1, columns='K2', fill_value=0, dropna=False).reindex(\n",
    "    index=keys.K1[~keys.K1.isna()].str.lower(), \n",
    "    columns=keys.K2[~keys.K2.isna()].str.lower(),\n",
    "    fill_value=0\n",
    ").fillna(0).to_csv('clustered_human_search_counts.csv')"
   ]
  },
  {
   "cell_type": "code",
   "execution_count": null,
   "metadata": {},
   "outputs": [],
   "source": []
  }
 ],
 "metadata": {
  "kernelspec": {
   "display_name": "Python 3",
   "language": "python",
   "name": "python3"
  },
  "language_info": {
   "codemirror_mode": {
    "name": "ipython",
    "version": 3
   },
   "file_extension": ".py",
   "mimetype": "text/x-python",
   "name": "python",
   "nbconvert_exporter": "python",
   "pygments_lexer": "ipython3",
   "version": "3.7.3"
  }
 },
 "nbformat": 4,
 "nbformat_minor": 2
}
